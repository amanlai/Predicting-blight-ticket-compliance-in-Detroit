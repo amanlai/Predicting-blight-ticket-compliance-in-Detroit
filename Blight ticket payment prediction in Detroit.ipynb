{
 "cells": [
  {
   "cell_type": "markdown",
   "metadata": {},
   "source": [
    "## Understanding and Predicting Property Maintenance Fines\n",
    "\n",
    "The Michigan Data Science Team ([MDST](http://midas.umich.edu/mdst/)) and the Michigan Student Symposium for Interdisciplinary Statistical Sciences ([MSSISS](https://sites.lsa.umich.edu/mssiss/)) have partnered with the City of Detroit to help solve one of the most pressing problems facing Detroit - blight. [Blight violations](http://www.detroitmi.gov/How-Do-I/Report/Blight-Complaint-FAQs) are issued by the city to individuals who allow their properties to remain in a deteriorated condition. Every year, the city of Detroit issues millions of dollars in fines to residents and every year, many of these fines remain unpaid. Enforcing unpaid blight fines is a costly and tedious process, so the city wants to know: how can we increase blight ticket compliance?\n",
    "\n",
    "The first step in answering this question is understanding when and why a resident might fail to comply with a blight ticket. We need to predict whether a given blight ticket will be paid on time.\n",
    "\n",
    "All data used here is pulled from the [Detroit Open Data Portal](https://data.detroitmi.gov/).\n",
    "\n",
    "___\n",
    "\n",
    "We provide you with two data files for use in training and validating your models: train.csv and test.csv. Each row in these two files corresponds to a single blight ticket, and includes information about when, why, and to whom each ticket was issued. The target variable is compliance, which is True if the ticket was paid early, on time, or within one month of the hearing data, False if the ticket was paid after the hearing date or not at all, and Null if the violator was found not responsible. Compliance, as well as a handful of other variables that will not be available at test-time, are only included in train.csv.\n",
    "\n",
    "Note: All tickets where the violators were found not responsible are not considered during evaluation. They are included in the training set as an additional source of data for visualization, and to enable unsupervised and semi-supervised approaches. However, they are not included in the test set.\n",
    "\n",
    "<br>\n",
    "\n",
    "**File descriptions** (Use only this data for training your model!)\n",
    "\n",
    "    train.csv - the training set (all tickets issued 2004-2011)\n",
    "    test.csv - the test set (all tickets issued 2012-2016)\n",
    "    addresses.csv & latlons.csv - mapping from ticket id to addresses, and from addresses to lat/lon coordinates. \n",
    "     Note: misspelled addresses may be incorrectly geolocated.\n",
    "\n",
    "<br>\n",
    "\n",
    "**Data fields**\n",
    "\n",
    "train.csv & test.csv\n",
    "\n",
    "    ticket_id - unique identifier for tickets\n",
    "    agency_name - Agency that issued the ticket\n",
    "    inspector_name - Name of inspector that issued the ticket\n",
    "    violator_name - Name of the person/organization that the ticket was issued to\n",
    "    violation_street_number, violation_street_name, violation_zip_code - Address where the violation occurred\n",
    "    mailing_address_str_number, mailing_address_str_name, city, state, zip_code, non_us_str_code, country - Mailing address of the violator\n",
    "    ticket_issued_date - Date and time the ticket was issued\n",
    "    hearing_date - Date and time the violator's hearing was scheduled\n",
    "    violation_code, violation_description - Type of violation\n",
    "    disposition - Judgment and judgement type\n",
    "    fine_amount - Violation fine amount, excluding fees\n",
    "    admin_fee - $20 fee assigned to responsible judgments\n",
    "state_fee - $10 fee assigned to responsible judgments\n",
    "    late_fee - 10% fee assigned to responsible judgments\n",
    "    discount_amount - discount applied, if any\n",
    "    clean_up_cost - DPW clean-up or graffiti removal cost\n",
    "    judgment_amount - Sum of all fines and fees\n",
    "    grafitti_status - Flag for graffiti violations\n",
    "    \n",
    "train.csv only\n",
    "\n",
    "    payment_amount - Amount paid, if any\n",
    "    payment_date - Date payment was made, if it was received\n",
    "    payment_status - Current payment status as of Feb 1 2017\n",
    "    balance_due - Fines and fees still owed\n",
    "    collection_status - Flag for payments in collections\n",
    "    compliance [target variable for prediction] \n",
    "     Null = Not responsible\n",
    "     0 = Responsible, non-compliant\n",
    "     1 = Responsible, compliant\n",
    "    compliance_detail - More information on why each ticket was marked compliant or non-compliant\n",
    "\n",
    "\n",
    "___\n",
    "\n",
    "## Evaluation\n",
    "\n",
    "Your predictions will be given as the probability that the corresponding blight ticket will be paid on time.\n",
    "\n",
    "The evaluation metric for this assignment is the Area Under the ROC Curve (AUC). \n",
    "\n",
    "___\n",
    "\n",
    "We create a function that trains a model to predict blight ticket compliance in Detroit using `train.csv`. Using this model, return a series of length 61001 with the data being the probability that each corresponding ticket from `test.csv` will be paid, and the index being the ticket_id."
   ]
  },
  {
   "cell_type": "markdown",
   "metadata": {},
   "source": [
    "**Note**:\n",
    "\n",
    "From the training of the model, \"compliance_detail\" and \"collection_status\" should be removed to prevent data leakage because these variables already imply that someone is compliant or not."
   ]
  },
  {
   "cell_type": "code",
   "execution_count": 1,
   "metadata": {},
   "outputs": [],
   "source": [
    "import pandas as pd\n",
    "import numpy as np\n",
    "from operator import itemgetter"
   ]
  },
  {
   "cell_type": "code",
   "execution_count": 55,
   "metadata": {},
   "outputs": [],
   "source": [
    "# Fine tuning: Step 1\n",
    "\n",
    "def clean_df():\n",
    "    \n",
    "    df_train = pd.read_csv('../datasets/train.csv', engine='python')\n",
    "    #df_train = pd.read_csv('../datasets/train.csv',  encoding = 'ISO-8859-1') #also works\n",
    "    \n",
    "    df_test = pd.read_csv('../datasets/test.csv', engine='python') #encoding = 'ISO-8859-1')\n",
    "    df_test = df_test.replace({'disposition' : {'Responsible - Compl/Adj by Default' : 'Responsible by Default', \n",
    "                                  'Responsible - Compl/Adj by Determi' : 'Responsible by Determination', \n",
    "                                  'Responsible by Dismissal' : 'Responsible by Admission', \n",
    "                                  'Responsible (Fine Waived) by Admis' : 'Responsible (Fine Waived) by Deter'}})\n",
    "    \n",
    "    addresses = pd.read_csv('../datasets/addresses.csv', engine='python') \n",
    "    latlons = pd.read_csv('../datasets/latlons.csv', engine='python') \n",
    "    \n",
    "#    df_train['violation_code'] = df_train['violation_code'].apply(lambda x: x[:x.find(' (')])\n",
    "    \n",
    "#    df_train['violation_code'].replace(r'\\(.*|\\s.*','', regex=True, inplace=True)\n",
    "#    df_test['violation_code'].replace(r'\\(.*|\\s.*','', regex=True, inplace=True)\n",
    "\n",
    "    \n",
    "    \n",
    "    # this finds the number of unique values for each column\n",
    "    unique_counts = df_train.apply(pd.Series.nunique)\n",
    "    # does the same job\n",
    "    #value_count_counts = (df_drop.apply(pd.Series.value_counts)).apply(pd.Series.count)\n",
    "    \n",
    "    mask = addresses['ticket_id'].isin(list(df_train['ticket_id']))\n",
    "    df_train = pd.merge(addresses[mask], df_train, on='ticket_id')\n",
    "    mask = latlons['address'].isin(list(df_train['address']))\n",
    "    df_train = pd.merge(latlons[mask], df_train, on='address')\n",
    "    \n",
    "    \n",
    "    mask = addresses['ticket_id'].isin(list(df_test['ticket_id']))\n",
    "    df_test = pd.merge(addresses[mask], df_test, on='ticket_id')\n",
    "    mask = latlons['address'].isin(list(df_test['address']))\n",
    "    df_test = pd.merge(latlons[mask], df_test, on='address')\n",
    "    \n",
    "    \n",
    "    \n",
    "#    df_train = df_train[(df_train['country']=='USA') & (df_train['state']=='MI')]\n",
    "    cols_to_keep = ['disposition', 'lat', 'lon', 'violation_code', #'zip_code', \n",
    "                'fine_amount', 'late_fee', 'discount_amount', 'judgment_amount', 'compliance']\n",
    "    to_dummies = ['disposition', 'violation_code']#,'zip_code']\n",
    "    \n",
    "    \n",
    "#    mask = df_train['violation_code'].isin(list(df_test['violation_code']))\n",
    "#    df_train = df[mask]\n",
    "#    mask = df_test['violation_code'].isin(list(df_train['violation_code']))\n",
    "#    df_test = df_test[mask]\n",
    "\n",
    "\n",
    "\n",
    "    df_train = df_train[cols_to_keep]\n",
    "   # df_train['zip_code'] = df_train['zip_code'].str[:5]\n",
    "    df_train.dropna(inplace=True)\n",
    "    \n",
    "\n",
    "    df_tst = df_test[cols_to_keep[:-1]].copy()\n",
    "   # df_tst['zip_code'] = df_tst['zip_code'].str[:5]\n",
    "    df_tst.fillna(df_tst.median(), inplace=True)\n",
    "    df_tst = pd.get_dummies(df_tst, prefix=to_dummies, columns=to_dummies)\n",
    "\n",
    "\n",
    "    df_train = pd.get_dummies(df_train, prefix=to_dummies, columns=to_dummies)\n",
    "\n",
    "    for var in to_dummies:\n",
    "        df_train.drop(df_train.columns[df_train.columns.str.startswith(var)][0], axis=1, inplace=True)\n",
    "        df_tst.drop(df_tst.columns[df_tst.columns.str.startswith(var)][0], axis=1, inplace=True)\n",
    "\n",
    "    \n",
    "    df_y_train = df_train['compliance']\n",
    "    df_train = df_train.loc[:, ~df_train.columns.str.contains('compliance')]\n",
    "\n",
    "    \n",
    "    # this line of code stardardizes columns in both sets, in the sense that both will have the same columns\n",
    "    df_train, df_tst = df_train.align(df_tst, axis=1, fill_value=0) \n",
    "    \n",
    "    return df_train, df_y_train, df_tst, df_test['ticket_id']"
   ]
  },
  {
   "cell_type": "code",
   "execution_count": 56,
   "metadata": {},
   "outputs": [],
   "source": [
    "# Fine tuning: Step 2\n",
    "\n",
    "def preprocessed_df(x=clean_df()[:3], train_size=0.75):\n",
    "    \n",
    "    df_train = x[0]\n",
    "    df_y_train = x[1]\n",
    "    df_tst = x[2]\n",
    "\n",
    "    from sklearn.model_selection import train_test_split\n",
    "    X_train, X_test, y_train, y_test = train_test_split(df_train, df_y_train, train_size = train_size, random_state=0)\n",
    "    \n",
    "    from sklearn.preprocessing import StandardScaler\n",
    "    scaler = StandardScaler()\n",
    "    \n",
    "    X_train = scaler.fit_transform(X_train)\n",
    "    X_test = scaler.transform(X_test)\n",
    "    df_tst = scaler.transform(df_tst)\n",
    "    \n",
    "    return X_train, X_test, y_train, y_test, df_tst"
   ]
  },
  {
   "cell_type": "code",
   "execution_count": 57,
   "metadata": {},
   "outputs": [],
   "source": [
    "# Fine tuning: Step 3\n",
    "\n",
    "X_train, X_test, y_train, y_test, df_tst = preprocessed_df(train_size=0.1)\n",
    "arrays_for_tuning = preprocessed_df((X_train, y_train, df_tst))[:4]\n",
    "arrays_for_testing = preprocessed_df((X_test, y_test, df_tst))[:4]"
   ]
  },
  {
   "cell_type": "code",
   "execution_count": 72,
   "metadata": {},
   "outputs": [],
   "source": [
    "# Fine tuning: Step 4\n",
    "\n",
    "def my_GBC(x=preprocessed_df()[:4]):\n",
    "    \n",
    "    X_train = x[0]\n",
    "    X_test = x[1]\n",
    "    y_train = x[2]\n",
    "    y_test = x[3]\n",
    "    \n",
    "    from sklearn.ensemble import GradientBoostingClassifier\n",
    "    clf = GradientBoostingClassifier(learning_rate=0.005, min_samples_leaf=55, max_depth=5, \n",
    "                                     min_samples_split=1000, n_estimators=1000, \n",
    "                                     max_features=110 #7 #24, subsample=1.0\n",
    "                                    ).fit(X_train, y_train)\n",
    "\n",
    "    from sklearn.metrics import roc_auc_score\n",
    "    print('ROC AUC of Gradient Boost Classifier (Train): ', roc_auc_score(y_train, clf.predict_proba(X_train)[:,1]))\n",
    "    print('ROC AUC of Gradient Boost Classifier (Test): ', roc_auc_score(y_test, clf.predict_proba(X_test)[:,1]))\n",
    "    \n",
    "    return clf\n",
    "\n",
    "#my_GBC();"
   ]
  },
  {
   "cell_type": "code",
   "execution_count": 73,
   "metadata": {},
   "outputs": [
    {
     "name": "stdout",
     "output_type": "stream",
     "text": [
      "ROC AUC of Gradient Boost Classifier (Train):  0.840238729711097\n",
      "ROC AUC of Gradient Boost Classifier (Test):  0.8149593838576659\n"
     ]
    }
   ],
   "source": [
    "# Fine tuning: Step 5, 8, etc. until optimal parameters are reached\n",
    "\n",
    "clf = my_GBC(arrays_for_tuning);\n",
    "\n",
    "#0.8171319136276868\n",
    "#0.8194713703712886 learning_rate=0.0125, n_estimators=480\n",
    "#0.8177438414689575\n",
    "#0.8183495715265554 learning_rate=0.01, n_estimators=1000"
   ]
  },
  {
   "cell_type": "code",
   "execution_count": 83,
   "metadata": {},
   "outputs": [
    {
     "name": "stdout",
     "output_type": "stream",
     "text": [
      "{'max_depth': 13}\n"
     ]
    }
   ],
   "source": [
    "# Fine tuning: Step 6, 9, etc. until optimal parameters are reached\n",
    "\n",
    "def find_best_params(clf, X_train, y_train, grid_values):\n",
    "    \n",
    "    from sklearn.model_selection import GridSearchCV\n",
    "    \n",
    "    grid_clf = GridSearchCV(clf, param_grid=grid_values, scoring = 'roc_auc', cv=3).fit(X_train, y_train)\n",
    "#    means = grid_clf.cv_results_['mean_test_score']\n",
    "#    for mean, params in zip(means, grid_clf.cv_results_['params']):\n",
    "#        print(\"%0.3f for %r\" % (mean, params))\n",
    "    \n",
    "    return grid_clf, grid_clf.best_params_\n",
    "\n",
    "\n",
    "\n",
    "\n",
    "\n",
    "\n",
    "def param_tuning():\n",
    "    X_train, y_train = itemgetter(0, 2)(arrays_for_tuning)\n",
    "    grid_values_GBC = {'max_depth':range(11,16,2)}\n",
    "    \n",
    "    \n",
    "    #{'min_samples_split':range(1000,1101,50)}    \n",
    "    #{'min_samples_leaf':range(50,60,5)}\n",
    "    #{'max_features':range(105,116,5)}\n",
    "    \n",
    "    #{'subsample':[0.6,0.7,0.75,0.8,0.85,0.9]}\n",
    "    #{'max_features':range(23,25)}\n",
    "    #{'max_features':range(18,30,2)}\n",
    "    #{'max_features':range(7,20,2)}\n",
    "    #{'min_samples_leaf':range(30,71,10)}\n",
    "    #{'max_depth':range(2,6)}\n",
    "    #{'max_depth':range(5,16,2), 'min_samples_split':range(200,1001,200)}\n",
    "    #{'n_estimators':range(20,100,10)}\n",
    "    #{'learning_rate': [0.001, 0.01, 0.1]}\n",
    "    \n",
    "    return find_best_params(clf, X_train, y_train, grid_values_GBC)\n",
    "\n",
    "#    grid_values_Logit = {'C':[0.01, 0.1, 1, 10, 100]}\n",
    "#    return find_best_params(my_logit(), X_train, y_train, grid_values_Logit)\n",
    "\n",
    "\n",
    "grid_clf, best_params = param_tuning()\n",
    "print(best_params)\n",
    "\n"
   ]
  },
  {
   "cell_type": "code",
   "execution_count": 20,
   "metadata": {},
   "outputs": [
    {
     "name": "stdout",
     "output_type": "stream",
     "text": [
      "GBC so far:\n",
      "\n",
      "\n",
      "Model Report\n",
      "Accuracy : 0.9326\n",
      "AUC Score (Train): 0.811824\n",
      "CV Score : Mean - 0.8062559 | Std - 0.01365896 | Min - 0.7825243 | Max - 0.8205036\n"
     ]
    },
    {
     "data": {
      "image/png": "[encoded data removed]",
      "text/plain": [
       "<Figure size 432x288 with 1 Axes>"
      ]
     },
     "metadata": {
      "needs_background": "light"
     },
     "output_type": "display_data"
    }
   ],
   "source": [
    "# Fine tuning: Step 7, 10, etc. until optimal parameters are reached\n",
    "# this step acts as a sanity check and visualize how well the tuning is going\n",
    "\n",
    "def modelfit_plot(clf, arrays_for_tuning, cv_folds=5):\n",
    "    \n",
    "    from sklearn.metrics import accuracy_score, roc_auc_score\n",
    "    from sklearn.model_selection import cross_val_score\n",
    "    import matplotlib.pyplot as plt\n",
    "    \n",
    "    X_train = arrays_for_tuning[0]\n",
    "    y_train = arrays_for_tuning[2]\n",
    "    \n",
    "    #Fit the algorithm on the data\n",
    "    clf.fit(X_train, y_train)\n",
    "            \n",
    "    #Predict training set:\n",
    "    X_train_predictions = clf.predict(X_train)\n",
    "    X_train_predprob = clf.predict_proba(X_train)[:,1]\n",
    "    \n",
    "    #Perform cross-validation:\n",
    "    cv_score = cross_val_score(clf, X_train, y_train, cv=cv_folds, scoring='roc_auc')\n",
    "    \n",
    "    #Print model report:\n",
    "    print(\"\\nModel Report\")\n",
    "    print(\"Accuracy : %.4g\" % accuracy_score(y_train.values, X_train_predictions))\n",
    "    print(\"AUC Score (Train): %f\" % roc_auc_score(y_train, X_train_predprob))\n",
    "    \n",
    "    print(\"CV Score : Mean - %.7g | Std - %.7g | Min - %.7g | Max - %.7g\" % (np.mean(cv_score),\n",
    "                                                                             np.std(cv_score),\n",
    "                                                                             np.min(cv_score),\n",
    "                                                                             np.max(cv_score)))\n",
    "    \n",
    "    \n",
    "    feat_imp = pd.Series(clf.feature_importances_, clean_df()[0].columns).sort_values(ascending=False)\n",
    "    feat_imp = feat_imp[feat_imp>0]\n",
    "    feat_imp.plot(kind='bar', title='Feature Importances')\n",
    "    plt.ylabel('Feature Importance Score')\n",
    "\n",
    "\n",
    "print('GBC so far:')\n",
    "modelfit_plot(clf, arrays_for_tuning)\n",
    "\n",
    "#Model Report\n",
    "#Accuracy : 0.9276\n",
    "#AUC Score (Train): 0.810152\n",
    "#CV Score : Mean - 0.8044508 | Std - 0.02028369 | Min - 0.7690659 | Max - 0.8287831"
   ]
  },
  {
   "cell_type": "code",
   "execution_count": 22,
   "metadata": {},
   "outputs": [
    {
     "name": "stdout",
     "output_type": "stream",
     "text": [
      "GBC with the best parameter values:\n",
      "\n",
      "\n",
      "Model Report\n",
      "Accuracy : 0.9343\n",
      "AUC Score (Train): 0.813625\n",
      "CV Score : Mean - 0.807501 | Std - 0.01312535 | Min - 0.7841887 | Max - 0.8214932\n",
      "The best estimator:  GradientBoostingClassifier(ccp_alpha=0.0, criterion='friedman_mse', init=None,\n",
      "                           learning_rate=0.0125, loss='deviance', max_depth=3,\n",
      "                           max_features=9, max_leaf_nodes=None,\n",
      "                           min_impurity_decrease=0.0, min_impurity_split=None,\n",
      "                           min_samples_leaf=50, min_samples_split=800,\n",
      "                           min_weight_fraction_leaf=0.0, n_estimators=460,\n",
      "                           n_iter_no_change=None, presort='deprecated',\n",
      "                           random_state=None, subsample=1.0, tol=0.0001,\n",
      "                           validation_fraction=0.1, verbose=0,\n",
      "                           warm_start=False)\n"
     ]
    },
    {
     "data": {
      "image/png": "[encoded data removed]",
      "text/plain": [
       "<Figure size 432x288 with 1 Axes>"
      ]
     },
     "metadata": {
      "needs_background": "light"
     },
     "output_type": "display_data"
    }
   ],
   "source": [
    "print('GBC with the best parameter values:\\n')\n",
    "modelfit_plot(grid_clf.best_estimator_, arrays_for_tuning)\n",
    "print('The best estimator: ', grid_clf.best_estimator_)"
   ]
  },
  {
   "cell_type": "code",
   "execution_count": 22,
   "metadata": {},
   "outputs": [
    {
     "name": "stdout",
     "output_type": "stream",
     "text": [
      "GBC with the best parameter values:\n",
      "\n",
      "\n",
      "Model Report\n",
      "Accuracy : 0.9343\n",
      "AUC Score (Train): 0.813625\n",
      "CV Score : Mean - 0.807501 | Std - 0.01312535 | Min - 0.7841887 | Max - 0.8214932\n",
      "The best estimator:  GradientBoostingClassifier(ccp_alpha=0.0, criterion='friedman_mse', init=None,\n",
      "                           learning_rate=0.0125, loss='deviance', max_depth=3,\n",
      "                           max_features=9, max_leaf_nodes=None,\n",
      "                           min_impurity_decrease=0.0, min_impurity_split=None,\n",
      "                           min_samples_leaf=50, min_samples_split=800,\n",
      "                           min_weight_fraction_leaf=0.0, n_estimators=460,\n",
      "                           n_iter_no_change=None, presort='deprecated',\n",
      "                           random_state=None, subsample=1.0, tol=0.0001,\n",
      "                           validation_fraction=0.1, verbose=0,\n",
      "                           warm_start=False)\n"
     ]
    },
    {
     "data": {
      "image/png": "[encoded data removed]",
      "text/plain": [
       "<Figure size 432x288 with 1 Axes>"
      ]
     },
     "metadata": {
      "needs_background": "light"
     },
     "output_type": "display_data"
    }
   ],
   "source": [
    "print('GBC with the best parameter values:\\n')\n",
    "modelfit_plot(grid_clf.best_estimator_, arrays_for_tuning)\n",
    "print('The best estimator: ', grid_clf.best_estimator_)"
   ]
  },
  {
   "cell_type": "code",
   "execution_count": null,
   "metadata": {},
   "outputs": [],
   "source": [
    "# The final testing phase:\n",
    "my_GBC(arrays_for_testing);"
   ]
  },
  {
   "cell_type": "markdown",
   "metadata": {},
   "source": [
    "### Logistic Regression"
   ]
  },
  {
   "cell_type": "code",
   "execution_count": 11,
   "metadata": {},
   "outputs": [
    {
     "name": "stdout",
     "output_type": "stream",
     "text": [
      "ROC AUC of Logistic Regression:  0.792483892872601\n"
     ]
    }
   ],
   "source": [
    "def my_logit(x=preprocessed_df()[:4]):\n",
    "    \n",
    "    X_train = x[0]\n",
    "    X_test = x[1]\n",
    "    y_train = x[2]\n",
    "    y_test = x[3]\n",
    "\n",
    "    from sklearn.linear_model import LogisticRegression\n",
    "    clf = LogisticRegression(solver='liblinear', C=100, random_state=0).fit(X_train, y_train)\n",
    "\n",
    "    from sklearn.metrics import roc_auc_score\n",
    "    print('ROC AUC of Logistic Regression: ', roc_auc_score(y_test, clf.decision_function(X_test)))\n",
    "    \n",
    "    return clf\n",
    "\n",
    "my_logit();"
   ]
  },
  {
   "cell_type": "code",
   "execution_count": null,
   "metadata": {},
   "outputs": [],
   "source": [
    "def optimal_features_df(clf=my_logit(),x=preprocessed_df()):\n",
    "    \n",
    "    X = np.concatenate([x[0],x[1]],axis=0)\n",
    "    y = np.concatenate([x[2],x[3]],axis=0)\n",
    "    df_tst = x[4]\n",
    "    \n",
    "#    from sklearn.model_selection import StratifiedKFold\n",
    "    from sklearn.feature_selection import RFECV\n",
    "    \n",
    "    rfecv = RFECV(estimator=clf, step=1, cv=3, scoring='roc_auc').fit(x[0], x[2])\n",
    "    print('Optimal number of features: {}'.format(rfecv.n_features_))\n",
    "    \n",
    "    X = X.drop(X.columns[np.where(rfecv.support_ == False)[0]], axis=1)\n",
    "    df_tst = df_tst.drop(df_tst.columns[np.where(rfecv.support_ == False)[0]], axis=1)\n",
    "    X_train, X_test, y_train, y_test = train_test_split(X, y, random_state=0)\n",
    "    \n",
    "    return X_train, X_test, y_train, y_test, df_tst\n",
    "\n",
    "#my_logit(optimal_features_df()[:4])"
   ]
  },
  {
   "cell_type": "code",
   "execution_count": 12,
   "metadata": {},
   "outputs": [
    {
     "name": "stdout",
     "output_type": "stream",
     "text": [
      "ROC AUC of Logistic Regression:  0.792483892872601\n",
      "ROC AUC of Gradient Boost Classifier:  0.8036127151033611\n"
     ]
    },
    {
     "data": {
      "text/plain": [
       "ticket_id\n",
       "352642    0.054019\n",
       "293386    0.203807\n",
       "327831    0.053312\n",
       "dtype: float64"
      ]
     },
     "execution_count": 12,
     "metadata": {},
     "output_type": "execute_result"
    }
   ],
   "source": [
    "def blight_model(clf=my_logit(),df_tst=preprocessed_df()[4],index=clean_df()[3]):\n",
    "\n",
    "    output = pd.Series(clf.predict_proba(df_tst)[:,1],index=index)\n",
    "\n",
    "    return output\n",
    "\n",
    "#blight_model()[:3]\n",
    "blight_model(my_GBC(arrays_for_testing))[:3]\n",
    "\n",
    "# AUC: 0.781002145583     on the test.csv dataset on the server\n",
    "# AUC: 0.7912867185325285 on my test set\n",
    "\n",
    "# AUC: 0.775248850108     on the test.csv dataset on the server (with violations_code)\n",
    "# AUC: 0.7967995598679135 on my test set (with violations_code)\n",
    "\n",
    "# AUC: 0.779532715908     on the test.csv dataset on the server (with lat, lon data)\n",
    "# AUC: 0.7876908991739616 on my test set (with lat, lon data)\n",
    "\n",
    "# AUC: 0.781305546359     on the server (deleting the restriction of the dataset to MI, USA)\n",
    "# AUC: 0.7832505511352577 on my test set\n",
    "\n",
    "# AUC: 0.759038141786     on the server (only float input; without disposition)\n",
    "# AUC: 0.7526468770146029 on my test set\n",
    "\n",
    "# AUC: 0.759575490389     on the server (with only 'fine_amount', 'late_fee', 'discount_amount')\n",
    "# AUC: 0.751981622122613  on my test set\n",
    "\n",
    "# AUC: 0.757010348822     on the server (with only 'fine_amount', 'late_fee')\n",
    "# AUC: 0.7495757746911171 on my test set\n",
    "\n",
    "# AUC: 0.759536934995     on the server (with only 'late_fee')"
   ]
  },
  {
   "cell_type": "markdown",
   "metadata": {},
   "source": [
    "### Random Forest Classifier"
   ]
  },
  {
   "cell_type": "code",
   "execution_count": 87,
   "metadata": {},
   "outputs": [
    {
     "name": "stdout",
     "output_type": "stream",
     "text": [
      "ROC AUC of Random Forest Classifier (Train):  0.9237701451047384\n",
      "ROC AUC of Random Forest Classifier (Test):  0.8150345836328929\n"
     ]
    }
   ],
   "source": [
    "def my_RFC(x=arrays_for_tuning):\n",
    "\n",
    "    from sklearn.ensemble import RandomForestClassifier\n",
    "    \n",
    "    X_train = x[0]\n",
    "    X_test = x[1]\n",
    "    y_train = x[2]\n",
    "    y_test = x[3]\n",
    "    \n",
    "    clf = RandomForestClassifier(n_estimators=1640, max_features=14, max_depth=13, \n",
    "                                 n_jobs=-1, random_state=0).fit(X_train, y_train)\n",
    "    \n",
    "    from sklearn.metrics import roc_auc_score\n",
    "    print('ROC AUC of Random Forest Classifier (Train): ', roc_auc_score(y_train, clf.predict_proba(X_train)[:,1]))\n",
    "    print('ROC AUC of Random Forest Classifier (Test): ', roc_auc_score(y_test, clf.predict_proba(X_test)[:,1]))\n",
    "    \n",
    "    return clf\n",
    "\n",
    "clf = my_RFC()"
   ]
  },
  {
   "cell_type": "code",
   "execution_count": 88,
   "metadata": {},
   "outputs": [
    {
     "name": "stdout",
     "output_type": "stream",
     "text": [
      "ROC AUC of Random Forest Classifier (Train):  0.8578794447428579\n",
      "ROC AUC of Random Forest Classifier (Test):  0.8136823862305304\n"
     ]
    }
   ],
   "source": [
    "# The final testing phase:\n",
    "my_RFC(arrays_for_testing);"
   ]
  },
  {
   "cell_type": "markdown",
   "metadata": {},
   "source": [
    "### Multi-layer Perceptron Classifier"
   ]
  },
  {
   "cell_type": "code",
   "execution_count": 92,
   "metadata": {},
   "outputs": [
    {
     "name": "stdout",
     "output_type": "stream",
     "text": [
      "ROC AUC of MLP Classifier (Train):  0.8264854048906188\n",
      "ROC AUC of MLP Classifier (Test):  0.7794093098974474\n"
     ]
    }
   ],
   "source": [
    "def my_MLP(x=preprocessed_df()[:4]):\n",
    "    \n",
    "    X_train = x[0]\n",
    "    X_test = x[1]\n",
    "    y_train = x[2]\n",
    "    y_test = x[3]\n",
    "\n",
    "    from sklearn.neural_network import MLPClassifier\n",
    "    clf = MLPClassifier(hidden_layer_sizes = (100,), activation = 'tanh', alpha = 0.1, \n",
    "                        random_state = 0).fit(X_train, y_train)\n",
    "\n",
    "    from sklearn.metrics import roc_auc_score\n",
    "    print('ROC AUC of MLP Classifier (Train): ', roc_auc_score(y_train, clf.predict_proba(X_train)[:,1]))\n",
    "    print('ROC AUC of MLP Classifier (Test): ', roc_auc_score(y_test, clf.predict_proba(X_test)[:,1]))\n",
    "    \n",
    "    return clf\n",
    "\n",
    "my_MLP(arrays_for_tuning);"
   ]
  },
  {
   "cell_type": "code",
   "execution_count": null,
   "metadata": {},
   "outputs": [],
   "source": [
    "def MLP_tuning(x=preprocessed_df()[:4]):\n",
    "\n",
    "    X_train = x[0]\n",
    "    X_test = x[1]\n",
    "    y_train = x[2]\n",
    "    y_test = x[3]\n",
    "\n",
    "    from sklearn.neural_network import MLPClassifier\n",
    "    from sklearn.model_selection import GridSearchCV\n",
    "    \n",
    "    grid_values = {'hidden_layer_sizes': [(50,50,50), (50,100,50), (100,)],\n",
    "                   'activation': ['tanh', 'relu'],\n",
    "                   'solver': ['sgd', 'adam'],\n",
    "                   'alpha': [0.1, 0.05],\n",
    "                   'learning_rate': ['constant','adaptive'],\n",
    "                  }\n",
    "    \n",
    "    grid_clf = GridSearchCV(estimator = MLPClassifier(hidden_layer_sizes = (100,), \n",
    "                                                      activation = 'tanh', alpha = 0.1, \n",
    "                                                      max_iter=100, random_state = 0,\n",
    "                                                      learning_rate='constant', solver='adam'), \n",
    "                            param_grid = grid_values, scoring = 'roc_auc', \n",
    "                            cv=3, n_jobs=-1).fit(X_train, y_train)\n",
    "    \n",
    "    print('Best parameter: ', grid_clf.best_params_)\n",
    "    \n",
    "    clf = grid_clf.best_estimator_\n",
    "    \n",
    "    from sklearn.metrics import roc_auc_score\n",
    "    print('ROC AUC of MLPC (Train): ', roc_auc_score(y_test, clf.predict_proba(X_test)[:,1]))\n",
    "    print('ROC AUC of MLPC (Test): ', roc_auc_score(y_test, clf.predict_proba(X_test)[:,1]))\n",
    "    print('The best estimator: ', )\n",
    "\n",
    "MLP_tuning(arrays_for_tuning)"
   ]
  },
  {
   "cell_type": "markdown",
   "metadata": {},
   "source": [
    "### Gradient Boosting Classifier submitted to the autograder"
   ]
  },
  {
   "cell_type": "code",
   "execution_count": null,
   "metadata": {},
   "outputs": [],
   "source": [
    "import pandas as pd\n",
    "import numpy as np\n",
    "\n",
    "def blight_model():\n",
    "    \n",
    "    df_train = pd.read_csv('../datasets/train.csv', engine='python')\n",
    "    \n",
    "    df_test = pd.read_csv('../datasets/test.csv', engine='python') #encoding = 'ISO-8859-1')\n",
    "    df_test = df_test.replace({'disposition' : {'Responsible - Compl/Adj by Default' : 'Responsible by Default', \n",
    "                                  'Responsible - Compl/Adj by Determi' : 'Responsible by Determination', \n",
    "                                  'Responsible by Dismissal' : 'Responsible by Admission', \n",
    "                                  'Responsible (Fine Waived) by Admis' : 'Responsible (Fine Waived) by Deter'}})\n",
    "    \n",
    "    addresses = pd.read_csv('../datasets/addresses.csv', engine='python') \n",
    "    latlons = pd.read_csv('../datasets/latlons.csv', engine='python') \n",
    "    \n",
    "    \n",
    "    mask = addresses['ticket_id'].isin(list(df_train['ticket_id']))\n",
    "    df_train = pd.merge(addresses[mask], df_train, on='ticket_id')\n",
    "    mask = latlons['address'].isin(list(df_train['address']))\n",
    "    df_train = pd.merge(latlons[mask], df_train, on='address')\n",
    "    \n",
    "    \n",
    "    mask = addresses['ticket_id'].isin(list(df_test['ticket_id']))\n",
    "    df_test = pd.merge(addresses[mask], df_test, on='ticket_id')\n",
    "    mask = latlons['address'].isin(list(df_test['address']))\n",
    "    df_test = pd.merge(latlons[mask], df_test, on='address')\n",
    "    \n",
    "    \n",
    "    \n",
    "#    df_train = df_train[(df_train['country']=='USA') & (df_train['state']=='MI')]\n",
    "    cols_to_keep = ['disposition', 'lat', 'lon', 'violation_code', \n",
    "                'fine_amount', 'late_fee', 'discount_amount', 'judgment_amount', 'compliance']\n",
    "    \n",
    "   \n",
    "    df_train = df_train[cols_to_keep]\n",
    "    df_train.dropna(inplace=True)\n",
    "    \n",
    "\n",
    "    df_tst = df_test[cols_to_keep[:-1]].copy()\n",
    "    df_tst.fillna(df_tst.mean(), inplace=True)\n",
    "    df_tst = pd.get_dummies(df_tst)\n",
    "\n",
    "\n",
    "    df_train = pd.get_dummies(df_train)\n",
    "    df_y_train = df_train['compliance']\n",
    "    df_train = df_train.loc[:, ~df_train.columns.str.contains('compliance')]\n",
    "\n",
    "\n",
    "    df_train, df_tst = df_train.align(df_tst, axis=1, fill_value=0) # must comment it out if violations_code \n",
    "                                                                        # is not included    \n",
    "\n",
    "    from sklearn.preprocessing import StandardScaler\n",
    "    scaler = StandardScaler()\n",
    "    \n",
    "    df_train = scaler.fit_transform(df_train)\n",
    "    #X_test = scaler.transform(X_test)\n",
    "    df_tst = scaler.transform(df_tst)\n",
    "\n",
    "\n",
    "\n",
    "    from sklearn.ensemble import GradientBoostingClassifier\n",
    "    clf = GradientBoostingClassifier(learning_rate=0.0125, n_estimators=460, min_samples_split=800, max_depth=3,\n",
    "                                     min_samples_leaf=50, max_features=24, subsample=1.0\n",
    "                                    ).fit(df_train, df_y_train)\n",
    "\n",
    "    output = pd.Series(clf.predict_proba(df_tst)[:,1],index=df_test['ticket_id'])\n",
    "    \n",
    "    return output\n",
    "\n",
    "# AUC: 0.804651093278 (with default settings)\n",
    "# AUC: 0.80521352618 (after tuning)\n",
    "# AUC: 0.804622482869 (after tuning + no violation_code) max_features=7\n",
    "\n",
    "# AUC:  (after tuning + everything)"
   ]
  },
  {
   "cell_type": "markdown",
   "metadata": {},
   "source": [
    "### A workbook"
   ]
  },
  {
   "cell_type": "code",
   "execution_count": null,
   "metadata": {},
   "outputs": [],
   "source": [
    "df_train = pd.read_csv('../datasets/train.csv', engine='python')"
   ]
  },
  {
   "cell_type": "code",
   "execution_count": null,
   "metadata": {},
   "outputs": [],
   "source": [
    "cols_to_drop = ['violator_name', 'violation_zip_code', 'non_us_str_code', 'grafitti_status', \n",
    "                'payment_amount', 'payment_date', 'payment_status', 'balance_due', 'collection_status', 'compliance_detail']\n",
    "df = df_train.dropna(subset=['compliance'])\n",
    "df_drop = df.drop(cols_to_drop, axis=1)\n",
    "\n",
    "# this finds the number of unique values for each column\n",
    "unique_counts = df_drop.apply(pd.Series.nunique)\n",
    "# does the same job\n",
    "#value_count_counts = (df_drop.apply(pd.Series.value_counts)).apply(pd.Series.count)\n",
    "\n",
    "df_drop.drop(columns=['admin_fee', 'state_fee', 'clean_up_cost'], inplace=True)\n",
    "df_drop = df_drop[df_drop['country']=='USA'].drop(columns=['country'])\n",
    "df_drop = df_drop[df_drop['state']=='MI'].drop(columns=['state'])\n",
    "df_drop['zip_code'] = df_drop['zip_code'].str[:5]\n",
    "\n",
    "\n",
    "\n",
    "cols_to_keep = ['agency_name', 'inspector_name', 'zip_code', 'violation_code', 'disposition', \n",
    "                'fine_amount', 'late_fee', 'discount_amount', 'judgment_amount']\n",
    "X = df_drop[cols_to_keep]\n",
    "\n",
    "X = pd.get_dummies(X.astype(str))\n",
    "\n",
    "y = df_drop['compliance']\n",
    "\n",
    "\n",
    "#0.8144676761595688"
   ]
  },
  {
   "cell_type": "code",
   "execution_count": null,
   "metadata": {},
   "outputs": [],
   "source": []
  }
 ],
 "metadata": {
  "coursera": {
   "course_slug": "python-machine-learning",
   "graded_item_id": "nNS8l",
   "launcher_item_id": "yWWk7",
   "part_id": "w8BSS"
  },
  "kernelspec": {
   "display_name": "Python 3",
   "language": "python",
   "name": "python3"
  },
  "language_info": {
   "codemirror_mode": {
    "name": "ipython",
    "version": 3
   },
   "file_extension": ".py",
   "mimetype": "text/x-python",
   "name": "python",
   "nbconvert_exporter": "python",
   "pygments_lexer": "ipython3",
   "version": "3.7.7"
  }
 },
 "nbformat": 4,
 "nbformat_minor": 2
}
